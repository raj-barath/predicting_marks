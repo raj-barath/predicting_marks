{
 "cells": [
  {
   "cell_type": "markdown",
   "id": "51f227ca",
   "metadata": {},
   "source": [
    "#   Prediction using Supervised ML\n",
    "\n",
    "                    TASK-1"
   ]
  },
  {
   "cell_type": "code",
   "execution_count": 2,
   "id": "38b1b20e",
   "metadata": {},
   "outputs": [],
   "source": [
    "import numpy as np\n",
    "import pandas as pd\n",
    "import seaborn as sb\n",
    "import matplotlib.pyplot as plt\n",
    "%matplotlib inline"
   ]
  },
  {
   "cell_type": "code",
   "execution_count": 3,
   "id": "1218030d",
   "metadata": {},
   "outputs": [],
   "source": [
    "data=pd.read_csv(\"http://bit.ly/w-data\")"
   ]
  },
  {
   "cell_type": "code",
   "execution_count": 4,
   "id": "f56d6a83",
   "metadata": {},
   "outputs": [
    {
     "data": {
      "text/html": [
       "<div>\n",
       "<style scoped>\n",
       "    .dataframe tbody tr th:only-of-type {\n",
       "        vertical-align: middle;\n",
       "    }\n",
       "\n",
       "    .dataframe tbody tr th {\n",
       "        vertical-align: top;\n",
       "    }\n",
       "\n",
       "    .dataframe thead th {\n",
       "        text-align: right;\n",
       "    }\n",
       "</style>\n",
       "<table border=\"1\" class=\"dataframe\">\n",
       "  <thead>\n",
       "    <tr style=\"text-align: right;\">\n",
       "      <th></th>\n",
       "      <th>Hours</th>\n",
       "      <th>Scores</th>\n",
       "    </tr>\n",
       "  </thead>\n",
       "  <tbody>\n",
       "    <tr>\n",
       "      <th>0</th>\n",
       "      <td>2.5</td>\n",
       "      <td>21</td>\n",
       "    </tr>\n",
       "    <tr>\n",
       "      <th>1</th>\n",
       "      <td>5.1</td>\n",
       "      <td>47</td>\n",
       "    </tr>\n",
       "    <tr>\n",
       "      <th>2</th>\n",
       "      <td>3.2</td>\n",
       "      <td>27</td>\n",
       "    </tr>\n",
       "    <tr>\n",
       "      <th>3</th>\n",
       "      <td>8.5</td>\n",
       "      <td>75</td>\n",
       "    </tr>\n",
       "    <tr>\n",
       "      <th>4</th>\n",
       "      <td>3.5</td>\n",
       "      <td>30</td>\n",
       "    </tr>\n",
       "  </tbody>\n",
       "</table>\n",
       "</div>"
      ],
      "text/plain": [
       "   Hours  Scores\n",
       "0    2.5      21\n",
       "1    5.1      47\n",
       "2    3.2      27\n",
       "3    8.5      75\n",
       "4    3.5      30"
      ]
     },
     "execution_count": 4,
     "metadata": {},
     "output_type": "execute_result"
    }
   ],
   "source": [
    "data.head(5)"
   ]
  },
  {
   "cell_type": "markdown",
   "id": "5947e952",
   "metadata": {},
   "source": [
    "# VISUALIZING THE RELATION BETWEEN THE DATA"
   ]
  },
  {
   "cell_type": "code",
   "execution_count": 5,
   "id": "a7292c95",
   "metadata": {},
   "outputs": [
    {
     "data": {
      "image/png": "[encoded data removed]",
      "text/plain": [
       "<Figure size 432x288 with 1 Axes>"
      ]
     },
     "metadata": {
      "needs_background": "light"
     },
     "output_type": "display_data"
    }
   ],
   "source": [
    "plt.scatter(x=data['Hours'], y=data['Scores'])  \n",
    "plt.title('Hours vs Percentage')  \n",
    "plt.xlabel('Hours Studied')  \n",
    "plt.ylabel('Percentage Score')  \n",
    "plt.show()"
   ]
  },
  {
   "cell_type": "code",
   "execution_count": 6,
   "id": "a8adba79",
   "metadata": {},
   "outputs": [],
   "source": [
    "x = data.iloc[:, :-1].values  \n",
    "y = data.iloc[:, 1].values  \n",
    "from sklearn.model_selection import train_test_split\n",
    "x_train,x_test,y_train,y_test=train_test_split(x,y,test_size=.2,random_state=0)"
   ]
  },
  {
   "cell_type": "code",
   "execution_count": 11,
   "id": "a2281552",
   "metadata": {},
   "outputs": [],
   "source": [
    "from sklearn.linear_model import LinearRegression\n",
    "from sklearn.metrics import r2_score,mean_squared_error\n",
    "from sklearn.model_selection import cross_val_score\n",
    "def linear_regression():\n",
    "    lr=LinearRegression()\n",
    "    lr.fit(x_train,y_train)\n",
    "    print('training score {}'.format(lr.score(x_train,y_train)))\n",
    "    print('\\n')\n",
    "          \n",
    "    pre=lr.predict(x_test)\n",
    "    print('test score {}'.format(lr.score(x_test,y_test)))\n",
    "    print('\\n')\n",
    "    \n",
    "    print('r2_score ',r2_score(pre,y_test))\n",
    "    print('\\n')\n",
    "    print('mse ',mean_squared_error(pre,y_test))\n",
    "    print('\\n')\n",
    "    print('cross validate ',cross_val_score(lr,x,y,cv=5))\n",
    "    print('\\n')\n",
    "    a=pd.DataFrame(pre,y_test).reset_index()\n",
    "    a.columns=['actual value','predicted value']\n",
    "    print(a)\n",
    "    \n",
    "    \n",
    "    line = lr.coef_*x+lr.intercept_\n",
    "    plt.scatter(x, y)\n",
    "    plt.plot(x, line)\n",
    "    plt.show()\n",
    "    hours=9.25\n",
    "    print('\\n')\n",
    "    print('               What will be predicted score if a student studies for 9.25 hrs/ day?     ')\n",
    "    print('\\n')\n",
    "    print(\"No of Hours = {}\".format(hours))\n",
    "    print('predicted score =',lr.predict([[hours]]))\n",
    "\n",
    "    "
   ]
  },
  {
   "cell_type": "code",
   "execution_count": 12,
   "id": "e0ac0d61",
   "metadata": {},
   "outputs": [
    {
     "name": "stdout",
     "output_type": "stream",
     "text": [
      "training score 0.9515510725211552\n",
      "\n",
      "\n",
      "test score 0.9454906892105354\n",
      "\n",
      "\n",
      "r2_score  0.9546785947197246\n",
      "\n",
      "\n",
      "mse  21.598769307217456\n",
      "\n",
      "\n",
      "cross validate  [0.78626426 0.97891923 0.93182467 0.96604831 0.9273292 ]\n",
      "\n",
      "\n",
      "   actual value  predicted value\n",
      "0            20        16.884145\n",
      "1            27        33.732261\n",
      "2            69        75.357018\n",
      "3            30        26.794801\n",
      "4            62        60.491033\n"
     ]
    },
    {
     "data": {
      "image/png": "[encoded data removed]",
      "text/plain": [
       "<Figure size 432x288 with 1 Axes>"
      ]
     },
     "metadata": {
      "needs_background": "light"
     },
     "output_type": "display_data"
    },
    {
     "name": "stdout",
     "output_type": "stream",
     "text": [
      "\n",
      "\n",
      "               What will be predicted score if a student studies for 9.25 hrs/ day?     \n",
      "\n",
      "\n",
      "No of Hours = 9.25\n",
      "predicted score = [93.69173249]\n"
     ]
    }
   ],
   "source": [
    "linear_regression()"
   ]
  },
  {
   "cell_type": "code",
   "execution_count": null,
   "id": "49c57202",
   "metadata": {},
   "outputs": [],
   "source": []
  }
 ],
 "metadata": {
  "kernelspec": {
   "display_name": "Python 3",
   "language": "python",
   "name": "python3"
  },
  "language_info": {
   "codemirror_mode": {
    "name": "ipython",
    "version": 3
   },
   "file_extension": ".py",
   "mimetype": "text/x-python",
   "name": "python",
   "nbconvert_exporter": "python",
   "pygments_lexer": "ipython3",
   "version": "3.8.8"
  }
 },
 "nbformat": 4,
 "nbformat_minor": 5
}
